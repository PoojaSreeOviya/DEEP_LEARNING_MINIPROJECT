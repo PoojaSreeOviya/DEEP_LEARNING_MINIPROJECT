{
  "nbformat": 4,
  "nbformat_minor": 0,
  "metadata": {
    "colab": {
      "provenance": [],
      "mount_file_id": "1vgfdRqG9iXQwcBvkqTpiek0Obhta0zpc",
      "authorship_tag": "ABX9TyONzGlTyVZtVcIJP+Q9aV1g",
      "include_colab_link": true
    },
    "kernelspec": {
      "name": "python3",
      "display_name": "Python 3"
    },
    "language_info": {
      "name": "python"
    }
  },
  "cells": [
    {
      "cell_type": "markdown",
      "metadata": {
        "id": "view-in-github",
        "colab_type": "text"
      },
      "source": [
        "<a href=\"https://colab.research.google.com/github/PoojaSreeOviya/DEEP_LEARNING_MINI_PROJECT/blob/main/DL_MINI_PRO.ipynb\" target=\"_parent\"><img src=\"https://colab.research.google.com/assets/colab-badge.svg\" alt=\"Open In Colab\"/></a>"
      ]
    },
    {
      "cell_type": "markdown",
      "source": [
        "**NAMED ENTITY RECOGNITION**"
      ],
      "metadata": {
        "id": "jdhhSd1sG-Nm"
      }
    },
    {
      "cell_type": "code",
      "source": [
        "import numpy as np\n",
        "import pandas as pd\n",
        "import matplotlib.pyplot as plt\n",
        "import seaborn as sns\n",
        "import ast\n",
        "import tensorflow as tf\n",
        "import sklearn\n",
        "from sklearn import model_selection"
      ],
      "metadata": {
        "id": "6ZGDppC0tMfI"
      },
      "execution_count": null,
      "outputs": []
    },
    {
      "cell_type": "code",
      "source": [
        "data = pd.read_csv('/content/drive/MyDrive/ner.csv',encoding='latin1')\n",
        "data.head()"
      ],
      "metadata": {
        "colab": {
          "base_uri": "https://localhost:8080/",
          "height": 206
        },
        "id": "MaAVQ-vftM2t",
        "outputId": "b69126f3-8c1f-403a-aad6-1f112a3cecdd"
      },
      "execution_count": null,
      "outputs": [
        {
          "output_type": "execute_result",
          "data": {
            "text/plain": [
              "    Sentence #                                           Sentence  \\\n",
              "0  Sentence: 1  Thousands of demonstrators have marched throug...   \n",
              "1  Sentence: 2  Families of soldiers killed in the conflict jo...   \n",
              "2  Sentence: 3  They marched from the Houses of Parliament to ...   \n",
              "3  Sentence: 4  Police put the number of marchers at 10,000 wh...   \n",
              "4  Sentence: 5  The protest comes on the eve of the annual con...   \n",
              "\n",
              "                                                 POS  \\\n",
              "0  ['NNS', 'IN', 'NNS', 'VBP', 'VBN', 'IN', 'NNP'...   \n",
              "1  ['NNS', 'IN', 'NNS', 'VBN', 'IN', 'DT', 'NN', ...   \n",
              "2  ['PRP', 'VBD', 'IN', 'DT', 'NNS', 'IN', 'NN', ...   \n",
              "3  ['NNS', 'VBD', 'DT', 'NN', 'IN', 'NNS', 'IN', ...   \n",
              "4  ['DT', 'NN', 'VBZ', 'IN', 'DT', 'NN', 'IN', 'D...   \n",
              "\n",
              "                                                 Tag  \n",
              "0  ['O', 'O', 'O', 'O', 'O', 'O', 'B-geo', 'O', '...  \n",
              "1  ['O', 'O', 'O', 'O', 'O', 'O', 'O', 'O', 'O', ...  \n",
              "2  ['O', 'O', 'O', 'O', 'O', 'O', 'O', 'O', 'O', ...  \n",
              "3  ['O', 'O', 'O', 'O', 'O', 'O', 'O', 'O', 'O', ...  \n",
              "4  ['O', 'O', 'O', 'O', 'O', 'O', 'O', 'O', 'O', ...  "
            ],
            "text/html": [
              "\n",
              "  <div id=\"df-1d9803d2-dda7-4133-8f8d-203766a0012a\" class=\"colab-df-container\">\n",
              "    <div>\n",
              "<style scoped>\n",
              "    .dataframe tbody tr th:only-of-type {\n",
              "        vertical-align: middle;\n",
              "    }\n",
              "\n",
              "    .dataframe tbody tr th {\n",
              "        vertical-align: top;\n",
              "    }\n",
              "\n",
              "    .dataframe thead th {\n",
              "        text-align: right;\n",
              "    }\n",
              "</style>\n",
              "<table border=\"1\" class=\"dataframe\">\n",
              "  <thead>\n",
              "    <tr style=\"text-align: right;\">\n",
              "      <th></th>\n",
              "      <th>Sentence #</th>\n",
              "      <th>Sentence</th>\n",
              "      <th>POS</th>\n",
              "      <th>Tag</th>\n",
              "    </tr>\n",
              "  </thead>\n",
              "  <tbody>\n",
              "    <tr>\n",
              "      <th>0</th>\n",
              "      <td>Sentence: 1</td>\n",
              "      <td>Thousands of demonstrators have marched throug...</td>\n",
              "      <td>['NNS', 'IN', 'NNS', 'VBP', 'VBN', 'IN', 'NNP'...</td>\n",
              "      <td>['O', 'O', 'O', 'O', 'O', 'O', 'B-geo', 'O', '...</td>\n",
              "    </tr>\n",
              "    <tr>\n",
              "      <th>1</th>\n",
              "      <td>Sentence: 2</td>\n",
              "      <td>Families of soldiers killed in the conflict jo...</td>\n",
              "      <td>['NNS', 'IN', 'NNS', 'VBN', 'IN', 'DT', 'NN', ...</td>\n",
              "      <td>['O', 'O', 'O', 'O', 'O', 'O', 'O', 'O', 'O', ...</td>\n",
              "    </tr>\n",
              "    <tr>\n",
              "      <th>2</th>\n",
              "      <td>Sentence: 3</td>\n",
              "      <td>They marched from the Houses of Parliament to ...</td>\n",
              "      <td>['PRP', 'VBD', 'IN', 'DT', 'NNS', 'IN', 'NN', ...</td>\n",
              "      <td>['O', 'O', 'O', 'O', 'O', 'O', 'O', 'O', 'O', ...</td>\n",
              "    </tr>\n",
              "    <tr>\n",
              "      <th>3</th>\n",
              "      <td>Sentence: 4</td>\n",
              "      <td>Police put the number of marchers at 10,000 wh...</td>\n",
              "      <td>['NNS', 'VBD', 'DT', 'NN', 'IN', 'NNS', 'IN', ...</td>\n",
              "      <td>['O', 'O', 'O', 'O', 'O', 'O', 'O', 'O', 'O', ...</td>\n",
              "    </tr>\n",
              "    <tr>\n",
              "      <th>4</th>\n",
              "      <td>Sentence: 5</td>\n",
              "      <td>The protest comes on the eve of the annual con...</td>\n",
              "      <td>['DT', 'NN', 'VBZ', 'IN', 'DT', 'NN', 'IN', 'D...</td>\n",
              "      <td>['O', 'O', 'O', 'O', 'O', 'O', 'O', 'O', 'O', ...</td>\n",
              "    </tr>\n",
              "  </tbody>\n",
              "</table>\n",
              "</div>\n",
              "    <div class=\"colab-df-buttons\">\n",
              "\n",
              "  <div class=\"colab-df-container\">\n",
              "    <button class=\"colab-df-convert\" onclick=\"convertToInteractive('df-1d9803d2-dda7-4133-8f8d-203766a0012a')\"\n",
              "            title=\"Convert this dataframe to an interactive table.\"\n",
              "            style=\"display:none;\">\n",
              "\n",
              "  <svg xmlns=\"http://www.w3.org/2000/svg\" height=\"24px\" viewBox=\"0 -960 960 960\">\n",
              "    <path d=\"M120-120v-720h720v720H120Zm60-500h600v-160H180v160Zm220 220h160v-160H400v160Zm0 220h160v-160H400v160ZM180-400h160v-160H180v160Zm440 0h160v-160H620v160ZM180-180h160v-160H180v160Zm440 0h160v-160H620v160Z\"/>\n",
              "  </svg>\n",
              "    </button>\n",
              "\n",
              "  <style>\n",
              "    .colab-df-container {\n",
              "      display:flex;\n",
              "      gap: 12px;\n",
              "    }\n",
              "\n",
              "    .colab-df-convert {\n",
              "      background-color: #E8F0FE;\n",
              "      border: none;\n",
              "      border-radius: 50%;\n",
              "      cursor: pointer;\n",
              "      display: none;\n",
              "      fill: #1967D2;\n",
              "      height: 32px;\n",
              "      padding: 0 0 0 0;\n",
              "      width: 32px;\n",
              "    }\n",
              "\n",
              "    .colab-df-convert:hover {\n",
              "      background-color: #E2EBFA;\n",
              "      box-shadow: 0px 1px 2px rgba(60, 64, 67, 0.3), 0px 1px 3px 1px rgba(60, 64, 67, 0.15);\n",
              "      fill: #174EA6;\n",
              "    }\n",
              "\n",
              "    .colab-df-buttons div {\n",
              "      margin-bottom: 4px;\n",
              "    }\n",
              "\n",
              "    [theme=dark] .colab-df-convert {\n",
              "      background-color: #3B4455;\n",
              "      fill: #D2E3FC;\n",
              "    }\n",
              "\n",
              "    [theme=dark] .colab-df-convert:hover {\n",
              "      background-color: #434B5C;\n",
              "      box-shadow: 0px 1px 3px 1px rgba(0, 0, 0, 0.15);\n",
              "      filter: drop-shadow(0px 1px 2px rgba(0, 0, 0, 0.3));\n",
              "      fill: #FFFFFF;\n",
              "    }\n",
              "  </style>\n",
              "\n",
              "    <script>\n",
              "      const buttonEl =\n",
              "        document.querySelector('#df-1d9803d2-dda7-4133-8f8d-203766a0012a button.colab-df-convert');\n",
              "      buttonEl.style.display =\n",
              "        google.colab.kernel.accessAllowed ? 'block' : 'none';\n",
              "\n",
              "      async function convertToInteractive(key) {\n",
              "        const element = document.querySelector('#df-1d9803d2-dda7-4133-8f8d-203766a0012a');\n",
              "        const dataTable =\n",
              "          await google.colab.kernel.invokeFunction('convertToInteractive',\n",
              "                                                    [key], {});\n",
              "        if (!dataTable) return;\n",
              "\n",
              "        const docLinkHtml = 'Like what you see? Visit the ' +\n",
              "          '<a target=\"_blank\" href=https://colab.research.google.com/notebooks/data_table.ipynb>data table notebook</a>'\n",
              "          + ' to learn more about interactive tables.';\n",
              "        element.innerHTML = '';\n",
              "        dataTable['output_type'] = 'display_data';\n",
              "        await google.colab.output.renderOutput(dataTable, element);\n",
              "        const docLink = document.createElement('div');\n",
              "        docLink.innerHTML = docLinkHtml;\n",
              "        element.appendChild(docLink);\n",
              "      }\n",
              "    </script>\n",
              "  </div>\n",
              "\n",
              "\n",
              "<div id=\"df-37fe385e-4937-429f-aeea-728c5ab7f128\">\n",
              "  <button class=\"colab-df-quickchart\" onclick=\"quickchart('df-37fe385e-4937-429f-aeea-728c5ab7f128')\"\n",
              "            title=\"Suggest charts\"\n",
              "            style=\"display:none;\">\n",
              "\n",
              "<svg xmlns=\"http://www.w3.org/2000/svg\" height=\"24px\"viewBox=\"0 0 24 24\"\n",
              "     width=\"24px\">\n",
              "    <g>\n",
              "        <path d=\"M19 3H5c-1.1 0-2 .9-2 2v14c0 1.1.9 2 2 2h14c1.1 0 2-.9 2-2V5c0-1.1-.9-2-2-2zM9 17H7v-7h2v7zm4 0h-2V7h2v10zm4 0h-2v-4h2v4z\"/>\n",
              "    </g>\n",
              "</svg>\n",
              "  </button>\n",
              "\n",
              "<style>\n",
              "  .colab-df-quickchart {\n",
              "      --bg-color: #E8F0FE;\n",
              "      --fill-color: #1967D2;\n",
              "      --hover-bg-color: #E2EBFA;\n",
              "      --hover-fill-color: #174EA6;\n",
              "      --disabled-fill-color: #AAA;\n",
              "      --disabled-bg-color: #DDD;\n",
              "  }\n",
              "\n",
              "  [theme=dark] .colab-df-quickchart {\n",
              "      --bg-color: #3B4455;\n",
              "      --fill-color: #D2E3FC;\n",
              "      --hover-bg-color: #434B5C;\n",
              "      --hover-fill-color: #FFFFFF;\n",
              "      --disabled-bg-color: #3B4455;\n",
              "      --disabled-fill-color: #666;\n",
              "  }\n",
              "\n",
              "  .colab-df-quickchart {\n",
              "    background-color: var(--bg-color);\n",
              "    border: none;\n",
              "    border-radius: 50%;\n",
              "    cursor: pointer;\n",
              "    display: none;\n",
              "    fill: var(--fill-color);\n",
              "    height: 32px;\n",
              "    padding: 0;\n",
              "    width: 32px;\n",
              "  }\n",
              "\n",
              "  .colab-df-quickchart:hover {\n",
              "    background-color: var(--hover-bg-color);\n",
              "    box-shadow: 0 1px 2px rgba(60, 64, 67, 0.3), 0 1px 3px 1px rgba(60, 64, 67, 0.15);\n",
              "    fill: var(--button-hover-fill-color);\n",
              "  }\n",
              "\n",
              "  .colab-df-quickchart-complete:disabled,\n",
              "  .colab-df-quickchart-complete:disabled:hover {\n",
              "    background-color: var(--disabled-bg-color);\n",
              "    fill: var(--disabled-fill-color);\n",
              "    box-shadow: none;\n",
              "  }\n",
              "\n",
              "  .colab-df-spinner {\n",
              "    border: 2px solid var(--fill-color);\n",
              "    border-color: transparent;\n",
              "    border-bottom-color: var(--fill-color);\n",
              "    animation:\n",
              "      spin 1s steps(1) infinite;\n",
              "  }\n",
              "\n",
              "  @keyframes spin {\n",
              "    0% {\n",
              "      border-color: transparent;\n",
              "      border-bottom-color: var(--fill-color);\n",
              "      border-left-color: var(--fill-color);\n",
              "    }\n",
              "    20% {\n",
              "      border-color: transparent;\n",
              "      border-left-color: var(--fill-color);\n",
              "      border-top-color: var(--fill-color);\n",
              "    }\n",
              "    30% {\n",
              "      border-color: transparent;\n",
              "      border-left-color: var(--fill-color);\n",
              "      border-top-color: var(--fill-color);\n",
              "      border-right-color: var(--fill-color);\n",
              "    }\n",
              "    40% {\n",
              "      border-color: transparent;\n",
              "      border-right-color: var(--fill-color);\n",
              "      border-top-color: var(--fill-color);\n",
              "    }\n",
              "    60% {\n",
              "      border-color: transparent;\n",
              "      border-right-color: var(--fill-color);\n",
              "    }\n",
              "    80% {\n",
              "      border-color: transparent;\n",
              "      border-right-color: var(--fill-color);\n",
              "      border-bottom-color: var(--fill-color);\n",
              "    }\n",
              "    90% {\n",
              "      border-color: transparent;\n",
              "      border-bottom-color: var(--fill-color);\n",
              "    }\n",
              "  }\n",
              "</style>\n",
              "\n",
              "  <script>\n",
              "    async function quickchart(key) {\n",
              "      const quickchartButtonEl =\n",
              "        document.querySelector('#' + key + ' button');\n",
              "      quickchartButtonEl.disabled = true;  // To prevent multiple clicks.\n",
              "      quickchartButtonEl.classList.add('colab-df-spinner');\n",
              "      try {\n",
              "        const charts = await google.colab.kernel.invokeFunction(\n",
              "            'suggestCharts', [key], {});\n",
              "      } catch (error) {\n",
              "        console.error('Error during call to suggestCharts:', error);\n",
              "      }\n",
              "      quickchartButtonEl.classList.remove('colab-df-spinner');\n",
              "      quickchartButtonEl.classList.add('colab-df-quickchart-complete');\n",
              "    }\n",
              "    (() => {\n",
              "      let quickchartButtonEl =\n",
              "        document.querySelector('#df-37fe385e-4937-429f-aeea-728c5ab7f128 button');\n",
              "      quickchartButtonEl.style.display =\n",
              "        google.colab.kernel.accessAllowed ? 'block' : 'none';\n",
              "    })();\n",
              "  </script>\n",
              "</div>\n",
              "\n",
              "    </div>\n",
              "  </div>\n"
            ],
            "application/vnd.google.colaboratory.intrinsic+json": {
              "type": "dataframe",
              "variable_name": "data",
              "summary": "{\n  \"name\": \"data\",\n  \"rows\": 47959,\n  \"fields\": [\n    {\n      \"column\": \"Sentence #\",\n      \"properties\": {\n        \"dtype\": \"string\",\n        \"num_unique_values\": 47959,\n        \"samples\": [\n          \"Sentence: 13390\",\n          \"Sentence: 3036\",\n          \"Sentence: 6014\"\n        ],\n        \"semantic_type\": \"\",\n        \"description\": \"\"\n      }\n    },\n    {\n      \"column\": \"Sentence\",\n      \"properties\": {\n        \"dtype\": \"string\",\n        \"num_unique_values\": 47575,\n        \"samples\": [\n          \"India 's government has warned the national media not to publish anything that hurts the feelings of any religious community .\",\n          \"Meanwhile , the U.N. secretary-general 's special representative for children and armed conflict concluded a five-day visit to Iraq Friday .\",\n          \"A government health official says illnesses caused by contaminated water have killed at least 66 people , and there are fears the TRUE death toll could be far higher , since many cases have not been reported .\"\n        ],\n        \"semantic_type\": \"\",\n        \"description\": \"\"\n      }\n    },\n    {\n      \"column\": \"POS\",\n      \"properties\": {\n        \"dtype\": \"string\",\n        \"num_unique_values\": 47214,\n        \"samples\": [\n          \"['NNP', 'VBZ', 'VBN', 'IN', 'DT', 'JJ', 'NNS', 'IN', 'DT', 'NNS', 'CC', 'VBZ', 'RB', 'VBN', 'IN', 'DT', 'NN', 'NN', 'IN', 'DT', 'NN', 'NN', '.']\",\n          \"['DT', 'NN', 'IN', 'NNS', 'IN', 'JJ', 'NNS', 'VBZ', 'VBN', 'TO', 'VB', 'IN', 'DT', 'NN', 'IN', 'NN', 'VBG', 'DT', 'NN', 'IN', 'NNP', 'NNP', '.']\",\n          \"['RB', 'CD', 'NN', 'VBD', 'PRP', 'VBD', 'IN', 'DT', 'NN', 'NNP', 'VBZ', 'PRP$', 'NN', '.']\"\n        ],\n        \"semantic_type\": \"\",\n        \"description\": \"\"\n      }\n    },\n    {\n      \"column\": \"Tag\",\n      \"properties\": {\n        \"dtype\": \"string\",\n        \"num_unique_values\": 33318,\n        \"samples\": [\n          \"['B-geo', 'O', 'B-geo', 'O', 'O', 'O', 'B-gpe', 'O', 'O', 'O', 'O', 'B-gpe', 'O', 'O', 'O', 'O', 'O', 'O', 'O', 'O', 'O', 'O', 'O', 'O', 'O']\",\n          \"['B-gpe', 'O', 'B-per', 'I-per', 'I-per', 'O', 'O', 'O', 'O', 'O', 'O', 'B-org', 'O', 'O', 'O', 'O', 'O', 'O', 'O', 'O', 'O', 'O', 'O', 'O', 'O', 'O', 'O']\",\n          \"['B-per', 'I-per', 'O', 'O', 'O', 'O', 'O', 'O', 'B-geo', 'O', 'O', 'O', 'O', 'O', 'B-geo', 'O', 'O', 'O', 'O', 'O', 'O', 'O', 'O', 'O', 'O']\"\n        ],\n        \"semantic_type\": \"\",\n        \"description\": \"\"\n      }\n    }\n  ]\n}"
            }
          },
          "metadata": {},
          "execution_count": 2
        }
      ]
    },
    {
      "cell_type": "code",
      "source": [
        "data.dropna(inplace=True)\n",
        "print(\"Number of rows : \",data.shape[0],\" and the number of columns : \",data.shape[1])"
      ],
      "metadata": {
        "colab": {
          "base_uri": "https://localhost:8080/"
        },
        "id": "OC-A_AZ9tX2Z",
        "outputId": "0b72c1b8-80de-4765-df4c-19e0117687d7"
      },
      "execution_count": null,
      "outputs": [
        {
          "output_type": "stream",
          "name": "stdout",
          "text": [
            "Number of rows :  47959  and the number of columns :  4\n"
          ]
        }
      ]
    },
    {
      "cell_type": "code",
      "source": [
        "for i in range(len(data)):\n",
        "   pos = ast.literal_eval(data['POS'][i])\n",
        "   tags = ast.literal_eval(data['Tag'][i])\n",
        "   data['POS'][i] = [str(word) for word in pos]\n",
        "   data['Tag'][i] = [str(word.upper()) for word in tags]"
      ],
      "metadata": {
        "id": "8QlWKSF5tmDa"
      },
      "execution_count": null,
      "outputs": []
    },
    {
      "cell_type": "code",
      "source": [
        "print (data)"
      ],
      "metadata": {
        "colab": {
          "base_uri": "https://localhost:8080/"
        },
        "id": "PMNX1W82t4j-",
        "outputId": "b0e3910d-2072-4199-f3ab-c38f5c3213a4"
      },
      "execution_count": null,
      "outputs": [
        {
          "output_type": "stream",
          "name": "stdout",
          "text": [
            "            Sentence #                                           Sentence  \\\n",
            "0          Sentence: 1  Thousands of demonstrators have marched throug...   \n",
            "1          Sentence: 2  Families of soldiers killed in the conflict jo...   \n",
            "2          Sentence: 3  They marched from the Houses of Parliament to ...   \n",
            "3          Sentence: 4  Police put the number of marchers at 10,000 wh...   \n",
            "4          Sentence: 5  The protest comes on the eve of the annual con...   \n",
            "...                ...                                                ...   \n",
            "47954  Sentence: 47955  Indian border security forces are accusing the...   \n",
            "47955  Sentence: 47956  Indian officials said no one was injured in Sa...   \n",
            "47956  Sentence: 47957  Two more landed in fields belonging to a nearb...   \n",
            "47957  Sentence: 47958  They say not all of the rockets exploded upon ...   \n",
            "47958  Sentence: 47959    Indian forces said they responded to the attack   \n",
            "\n",
            "                                                     POS  \\\n",
            "0      [NNS, IN, NNS, VBP, VBN, IN, NNP, TO, VB, DT, ...   \n",
            "1      [NNS, IN, NNS, VBN, IN, DT, NN, VBD, DT, NNS, ...   \n",
            "2      [PRP, VBD, IN, DT, NNS, IN, NN, TO, DT, NN, IN...   \n",
            "3      [NNS, VBD, DT, NN, IN, NNS, IN, CD, IN, NNS, V...   \n",
            "4      [DT, NN, VBZ, IN, DT, NN, IN, DT, JJ, NN, IN, ...   \n",
            "...                                                  ...   \n",
            "47954  [JJ, NN, NN, NNS, VBP, VBG, PRP$, JJ, NNS, IN,...   \n",
            "47955  [JJ, NNS, VBD, DT, NN, VBD, VBN, IN, NNP, POS,...   \n",
            "47956    [CD, JJR, VBD, IN, NNS, VBG, TO, DT, JJ, NN, .]   \n",
            "47957    [PRP, VBP, RB, DT, IN, DT, NNS, VBD, IN, NN, .]   \n",
            "47958               [JJ, NNS, VBD, PRP, VBD, TO, DT, NN]   \n",
            "\n",
            "                                                     Tag  \n",
            "0      [O, O, O, O, O, O, B-GEO, O, O, O, O, O, B-GEO...  \n",
            "1      [O, O, O, O, O, O, O, O, O, O, O, O, O, O, O, ...  \n",
            "2      [O, O, O, O, O, O, O, O, O, O, O, B-GEO, I-GEO...  \n",
            "3          [O, O, O, O, O, O, O, O, O, O, O, O, O, O, O]  \n",
            "4      [O, O, O, O, O, O, O, O, O, O, O, B-GEO, O, O,...  \n",
            "...                                                  ...  \n",
            "47954  [B-GPE, O, O, O, O, O, O, B-GPE, O, O, O, O, O...  \n",
            "47955  [B-GPE, O, O, O, O, O, O, O, B-TIM, O, O, O, O...  \n",
            "47956                  [O, O, O, O, O, O, O, O, O, O, O]  \n",
            "47957                  [O, O, O, O, O, O, O, O, O, O, O]  \n",
            "47958                       [B-GPE, O, O, O, O, O, O, O]  \n",
            "\n",
            "[47959 rows x 4 columns]\n"
          ]
        }
      ]
    },
    {
      "cell_type": "code",
      "source": [
        "data[\"Tag\"][0]"
      ],
      "metadata": {
        "colab": {
          "base_uri": "https://localhost:8080/"
        },
        "id": "WQCePY7ruTOG",
        "outputId": "2413cd52-c3a0-4482-db91-fd2beb49f19d"
      },
      "execution_count": null,
      "outputs": [
        {
          "output_type": "execute_result",
          "data": {
            "text/plain": [
              "['O',\n",
              " 'O',\n",
              " 'O',\n",
              " 'O',\n",
              " 'O',\n",
              " 'O',\n",
              " 'B-GEO',\n",
              " 'O',\n",
              " 'O',\n",
              " 'O',\n",
              " 'O',\n",
              " 'O',\n",
              " 'B-GEO',\n",
              " 'O',\n",
              " 'O',\n",
              " 'O',\n",
              " 'O',\n",
              " 'O',\n",
              " 'B-GPE',\n",
              " 'O',\n",
              " 'O',\n",
              " 'O',\n",
              " 'O',\n",
              " 'O']"
            ]
          },
          "metadata": {},
          "execution_count": 6
        }
      ]
    },
    {
      "cell_type": "code",
      "source": [
        "df_final = data[['Sentence','Tag']]\n",
        "\n",
        "df_train,df_test = model_selection.train_test_split(df_final,test_size=0.2,random_state=42)\n",
        "len(df_train),len(df_test)"
      ],
      "metadata": {
        "colab": {
          "base_uri": "https://localhost:8080/"
        },
        "id": "3p9iu0xNuVx8",
        "outputId": "669c733f-0196-4dd3-985c-6258bc4fac4a"
      },
      "execution_count": null,
      "outputs": [
        {
          "output_type": "execute_result",
          "data": {
            "text/plain": [
              "(38367, 9592)"
            ]
          },
          "metadata": {},
          "execution_count": 7
        }
      ]
    },
    {
      "cell_type": "code",
      "source": [
        "from keras.preprocessing.text import Tokenizer\n",
        "from tensorflow.keras.preprocessing.sequence import pad_sequences\n",
        "\n",
        "from keras.layers import Dense,Input,Embedding,Flatten\n",
        "from keras.models import Model\n",
        "from keras.losses import SparseCategoricalCrossentropy"
      ],
      "metadata": {
        "id": "aDNTr6fDuYZB"
      },
      "execution_count": null,
      "outputs": []
    },
    {
      "cell_type": "code",
      "source": [
        "train_targets = list(df_train.Tag.values)\n",
        "test_targets = list(df_test.Tag.values)\n",
        "\n",
        "tokenizer = Tokenizer(lower=False,oov_token=\"UNK\")\n",
        "tokenizer.fit_on_texts(df_train['Sentence'])\n",
        "\n",
        "train_inputs = tokenizer.texts_to_sequences(df_train['Sentence'])\n",
        "test_inputs = tokenizer.texts_to_sequences(df_test['Sentence'])"
      ],
      "metadata": {
        "id": "_rFlZvymubV8"
      },
      "execution_count": null,
      "outputs": []
    },
    {
      "cell_type": "code",
      "source": [
        "word2idx = tokenizer.word_index\n",
        "V = len(word2idx)\n",
        "print(\"Found %s unique tokens \"%V)"
      ],
      "metadata": {
        "colab": {
          "base_uri": "https://localhost:8080/"
        },
        "id": "A5xGg8LzudgK",
        "outputId": "0c581ccc-67e3-40c3-9fc3-fe42cb95a4e9"
      },
      "execution_count": null,
      "outputs": [
        {
          "output_type": "stream",
          "name": "stdout",
          "text": [
            "Found 28755 unique tokens \n"
          ]
        }
      ]
    },
    {
      "cell_type": "code",
      "source": [
        "train_tags = set([val for sublist in train_targets for val in sublist])\n",
        "test_tags = set([val for sublist in test_targets for val in sublist])\n",
        "\n",
        "print(\"Unique NER tags in train set: \",train_tags)\n",
        "print(\"Unique NER tags in test set: \",test_tags)"
      ],
      "metadata": {
        "colab": {
          "base_uri": "https://localhost:8080/"
        },
        "id": "c8SI_BrJufLf",
        "outputId": "ef6ff1dd-b167-4a6c-8e20-9ee1bd1a4bcd"
      },
      "execution_count": null,
      "outputs": [
        {
          "output_type": "stream",
          "name": "stdout",
          "text": [
            "Unique NER tags in train set:  {'B-GPE', 'B-GEO', 'I-PER', 'I-EVE', 'I-ART', 'O', 'B-NAT', 'I-NAT', 'I-GEO', 'B-ART', 'I-GPE', 'I-TIM', 'B-TIM', 'B-EVE', 'I-ORG', 'B-PER', 'B-ORG'}\n",
            "Unique NER tags in test set:  {'B-GPE', 'B-GEO', 'I-PER', 'I-EVE', 'I-ART', 'O', 'B-NAT', 'B-ART', 'I-GEO', 'I-NAT', 'I-GPE', 'I-TIM', 'B-TIM', 'B-EVE', 'I-ORG', 'B-PER', 'B-ORG'}\n"
          ]
        }
      ]
    },
    {
      "cell_type": "code",
      "source": [
        "tag_tokenizer = Tokenizer()\n",
        "tag_tokenizer.fit_on_texts(train_targets)\n",
        "train_tgt_int = tag_tokenizer.texts_to_sequences(train_targets)\n",
        "test_tgt_int = tag_tokenizer.texts_to_sequences(test_targets)"
      ],
      "metadata": {
        "id": "xF7KEZY9uhBO"
      },
      "execution_count": null,
      "outputs": []
    },
    {
      "cell_type": "code",
      "source": [
        "max_length_train = max(len(sent) for sent in train_inputs)\n",
        "max_length_test = max(len(sent) for sent in test_inputs)\n",
        "max_length = max(max_length_train,max_length_test)"
      ],
      "metadata": {
        "id": "LCnmUn3Iui5N"
      },
      "execution_count": null,
      "outputs": []
    },
    {
      "cell_type": "code",
      "source": [
        "train_inputs_final = pad_sequences(train_inputs,maxlen=max_length,padding=\"post\")\n",
        "print(\"Shape of train inputs: \",train_inputs_final.shape)"
      ],
      "metadata": {
        "colab": {
          "base_uri": "https://localhost:8080/"
        },
        "id": "gxGkr-yLDr4C",
        "outputId": "c03cc91a-d9e3-4a40-bc42-e9283f1d6da3"
      },
      "execution_count": null,
      "outputs": [
        {
          "output_type": "stream",
          "name": "stdout",
          "text": [
            "Shape of train inputs:  (38367, 89)\n"
          ]
        }
      ]
    },
    {
      "cell_type": "code",
      "source": [
        "test_inputs_final = pad_sequences(test_inputs,maxlen=max_length,padding=\"post\")\n",
        "print(\"Shape of test inputs: \",test_inputs_final.shape)"
      ],
      "metadata": {
        "colab": {
          "base_uri": "https://localhost:8080/"
        },
        "id": "mQzDEjiqDvMA",
        "outputId": "05c77620-80c4-4874-e7a6-e9c123ea0473"
      },
      "execution_count": null,
      "outputs": [
        {
          "output_type": "stream",
          "name": "stdout",
          "text": [
            "Shape of test inputs:  (9592, 89)\n"
          ]
        }
      ]
    },
    {
      "cell_type": "code",
      "source": [
        "train_targets_final = pad_sequences(train_tgt_int,maxlen=max_length,padding=\"post\")\n",
        "print(\"Shape of train targets: \",train_targets_final.shape)"
      ],
      "metadata": {
        "colab": {
          "base_uri": "https://localhost:8080/"
        },
        "id": "J0vppw5ADyeB",
        "outputId": "52e54c90-ec3d-4da0-85e2-6197c350e806"
      },
      "execution_count": null,
      "outputs": [
        {
          "output_type": "stream",
          "name": "stdout",
          "text": [
            "Shape of train targets:  (38367, 89)\n"
          ]
        }
      ]
    },
    {
      "cell_type": "code",
      "source": [
        "test_targets_final = pad_sequences(test_tgt_int,maxlen=max_length,padding=\"post\")\n",
        "print(\"Shape of test targets: \",test_targets_final.shape)"
      ],
      "metadata": {
        "colab": {
          "base_uri": "https://localhost:8080/"
        },
        "id": "CPzDII4XD1o_",
        "outputId": "cf07e001-5aaa-4ebd-d328-e602592e1b9e"
      },
      "execution_count": null,
      "outputs": [
        {
          "output_type": "stream",
          "name": "stdout",
          "text": [
            "Shape of test targets:  (9592, 89)\n"
          ]
        }
      ]
    },
    {
      "cell_type": "code",
      "source": [
        "K = len(tag_tokenizer.word_index)  +1\n",
        "K\n",
        "vector_size = 16"
      ],
      "metadata": {
        "id": "dTWRB1kmukiZ"
      },
      "execution_count": null,
      "outputs": []
    },
    {
      "cell_type": "markdown",
      "source": [
        "RNN"
      ],
      "metadata": {
        "id": "BHepaKU_6D7t"
      }
    },
    {
      "cell_type": "code",
      "source": [
        "from keras.layers import SimpleRNN\n",
        "\n",
        "i = Input(shape=(max_length,))\n",
        "x = Embedding(input_dim=V + 1, output_dim=vector_size, mask_zero=True)(i)\n",
        "x = SimpleRNN(32, return_sequences=True)(x)\n",
        "x = Dense(K)(x)\n",
        "\n",
        "model_rnn = Model(i, x)\n",
        "model_rnn.compile(optimizer=\"adam\", loss=SparseCategoricalCrossentropy(from_logits=True), metrics=[\"accuracy\"])\n",
        "model_rnn.summary()"
      ],
      "metadata": {
        "colab": {
          "base_uri": "https://localhost:8080/"
        },
        "id": "mZ0p6iWIuwX5",
        "outputId": "a42b11b9-6b85-4a05-f5ac-245c579beb71"
      },
      "execution_count": null,
      "outputs": [
        {
          "output_type": "stream",
          "name": "stdout",
          "text": [
            "Model: \"model\"\n",
            "_________________________________________________________________\n",
            " Layer (type)                Output Shape              Param #   \n",
            "=================================================================\n",
            " input_1 (InputLayer)        [(None, 89)]              0         \n",
            "                                                                 \n",
            " embedding (Embedding)       (None, 89, 16)            460096    \n",
            "                                                                 \n",
            " simple_rnn (SimpleRNN)      (None, 89, 32)            1568      \n",
            "                                                                 \n",
            " dense (Dense)               (None, 89, 18)            594       \n",
            "                                                                 \n",
            "=================================================================\n",
            "Total params: 462258 (1.76 MB)\n",
            "Trainable params: 462258 (1.76 MB)\n",
            "Non-trainable params: 0 (0.00 Byte)\n",
            "_________________________________________________________________\n"
          ]
        }
      ]
    },
    {
      "cell_type": "code",
      "source": [
        "# Train and evaluate RNN model\n",
        "model_rnn.fit(train_inputs_final, train_targets_final, epochs=10, validation_data=(test_inputs_final, test_targets_final))"
      ],
      "metadata": {
        "colab": {
          "base_uri": "https://localhost:8080/"
        },
        "id": "FnFWuM1QEB7H",
        "outputId": "6fd1e6f2-2253-403b-da1b-e448374871fc"
      },
      "execution_count": null,
      "outputs": [
        {
          "output_type": "stream",
          "name": "stdout",
          "text": [
            "Epoch 1/10\n",
            "1199/1199 [==============================] - 65s 52ms/step - loss: 0.6732 - accuracy: 0.8491 - val_loss: 0.4559 - val_accuracy: 0.8770\n",
            "Epoch 2/10\n",
            "1199/1199 [==============================] - 59s 49ms/step - loss: 0.3989 - accuracy: 0.8851 - val_loss: 0.3840 - val_accuracy: 0.8878\n",
            "Epoch 3/10\n",
            "1199/1199 [==============================] - 78s 65ms/step - loss: 0.3435 - accuracy: 0.8967 - val_loss: 0.3682 - val_accuracy: 0.8920\n",
            "Epoch 4/10\n",
            "1199/1199 [==============================] - 70s 58ms/step - loss: 0.3135 - accuracy: 0.9048 - val_loss: 0.3594 - val_accuracy: 0.8949\n",
            "Epoch 5/10\n",
            "1199/1199 [==============================] - 59s 49ms/step - loss: 0.2910 - accuracy: 0.9108 - val_loss: 0.3596 - val_accuracy: 0.8949\n",
            "Epoch 6/10\n",
            "1199/1199 [==============================] - 55s 46ms/step - loss: 0.2740 - accuracy: 0.9154 - val_loss: 0.3740 - val_accuracy: 0.8963\n",
            "Epoch 7/10\n",
            "1199/1199 [==============================] - 60s 50ms/step - loss: 0.2600 - accuracy: 0.9191 - val_loss: 0.3684 - val_accuracy: 0.8981\n",
            "Epoch 8/10\n",
            "1199/1199 [==============================] - 58s 49ms/step - loss: 0.2480 - accuracy: 0.9226 - val_loss: 0.3768 - val_accuracy: 0.8983\n",
            "Epoch 9/10\n",
            "1199/1199 [==============================] - 58s 48ms/step - loss: 0.2388 - accuracy: 0.9251 - val_loss: 0.3765 - val_accuracy: 0.8979\n",
            "Epoch 10/10\n",
            "1199/1199 [==============================] - 58s 48ms/step - loss: 0.2305 - accuracy: 0.9276 - val_loss: 0.3959 - val_accuracy: 0.8955\n"
          ]
        },
        {
          "output_type": "execute_result",
          "data": {
            "text/plain": [
              "<keras.src.callbacks.History at 0x7d79ec649390>"
            ]
          },
          "metadata": {},
          "execution_count": 20
        }
      ]
    },
    {
      "cell_type": "markdown",
      "source": [
        "MLP"
      ],
      "metadata": {
        "id": "sBZHP5vB6CIY"
      }
    },
    {
      "cell_type": "code",
      "source": [
        "from keras.layers import TimeDistributed\n",
        "\n",
        "i = Input(shape=(max_length,))\n",
        "x = Embedding(input_dim=V + 1, output_dim=vector_size, mask_zero=True)(i)\n",
        "x = TimeDistributed(Dense(128, activation='relu'))(x)\n",
        "x = TimeDistributed(Dense(64, activation='relu'))(x)\n",
        "x = TimeDistributed(Dense(K))(x)\n",
        "\n",
        "model_mlp = Model(i, x)\n",
        "model_mlp.compile(optimizer=\"adam\", loss=SparseCategoricalCrossentropy(from_logits=True), metrics=[\"accuracy\"])\n",
        "model_mlp.summary()"
      ],
      "metadata": {
        "colab": {
          "base_uri": "https://localhost:8080/"
        },
        "id": "iHbeKeDJ4RRW",
        "outputId": "7bd86c6a-1978-490c-ad39-6b2d913ae605"
      },
      "execution_count": null,
      "outputs": [
        {
          "output_type": "stream",
          "name": "stdout",
          "text": [
            "Model: \"model_1\"\n",
            "_________________________________________________________________\n",
            " Layer (type)                Output Shape              Param #   \n",
            "=================================================================\n",
            " input_2 (InputLayer)        [(None, 89)]              0         \n",
            "                                                                 \n",
            " embedding_1 (Embedding)     (None, 89, 16)            460096    \n",
            "                                                                 \n",
            " time_distributed (TimeDist  (None, 89, 128)           2176      \n",
            " ributed)                                                        \n",
            "                                                                 \n",
            " time_distributed_1 (TimeDi  (None, 89, 64)            8256      \n",
            " stributed)                                                      \n",
            "                                                                 \n",
            " time_distributed_2 (TimeDi  (None, 89, 18)            1170      \n",
            " stributed)                                                      \n",
            "                                                                 \n",
            "=================================================================\n",
            "Total params: 471698 (1.80 MB)\n",
            "Trainable params: 471698 (1.80 MB)\n",
            "Non-trainable params: 0 (0.00 Byte)\n",
            "_________________________________________________________________\n"
          ]
        }
      ]
    },
    {
      "cell_type": "code",
      "source": [
        "# Train and evaluate MLP model\n",
        "model_mlp.fit(train_inputs_final, train_targets_final, epochs=10, validation_data=(test_inputs_final, test_targets_final))"
      ],
      "metadata": {
        "colab": {
          "base_uri": "https://localhost:8080/"
        },
        "id": "cYM7I8LeEM1M",
        "outputId": "ddded09b-36c8-4076-b7e4-2f7839e8245d"
      },
      "execution_count": null,
      "outputs": [
        {
          "output_type": "stream",
          "name": "stdout",
          "text": [
            "Epoch 1/10\n",
            "1199/1199 [==============================] - 23s 18ms/step - loss: 0.6151 - accuracy: 0.8586 - val_loss: 0.4790 - val_accuracy: 0.8714\n",
            "Epoch 2/10\n",
            "1199/1199 [==============================] - 22s 18ms/step - loss: 0.4528 - accuracy: 0.8749 - val_loss: 0.4690 - val_accuracy: 0.8728\n",
            "Epoch 3/10\n",
            "1199/1199 [==============================] - 20s 17ms/step - loss: 0.4320 - accuracy: 0.8792 - val_loss: 0.4709 - val_accuracy: 0.8729\n",
            "Epoch 4/10\n",
            "1199/1199 [==============================] - 21s 18ms/step - loss: 0.4220 - accuracy: 0.8806 - val_loss: 0.4746 - val_accuracy: 0.8733\n",
            "Epoch 5/10\n",
            "1199/1199 [==============================] - 22s 19ms/step - loss: 0.4158 - accuracy: 0.8808 - val_loss: 0.4758 - val_accuracy: 0.8733\n",
            "Epoch 6/10\n",
            "1199/1199 [==============================] - 21s 17ms/step - loss: 0.4119 - accuracy: 0.8810 - val_loss: 0.4769 - val_accuracy: 0.8731\n",
            "Epoch 7/10\n",
            "1199/1199 [==============================] - 22s 18ms/step - loss: 0.4087 - accuracy: 0.8813 - val_loss: 0.4794 - val_accuracy: 0.8729\n",
            "Epoch 8/10\n",
            "1199/1199 [==============================] - 22s 18ms/step - loss: 0.4062 - accuracy: 0.8816 - val_loss: 0.4819 - val_accuracy: 0.8739\n",
            "Epoch 9/10\n",
            "1199/1199 [==============================] - 20s 17ms/step - loss: 0.4043 - accuracy: 0.8817 - val_loss: 0.4830 - val_accuracy: 0.8727\n",
            "Epoch 10/10\n",
            "1199/1199 [==============================] - 22s 19ms/step - loss: 0.4028 - accuracy: 0.8820 - val_loss: 0.4869 - val_accuracy: 0.8734\n"
          ]
        },
        {
          "output_type": "execute_result",
          "data": {
            "text/plain": [
              "<keras.src.callbacks.History at 0x7d79ec1e5840>"
            ]
          },
          "metadata": {},
          "execution_count": 22
        }
      ]
    },
    {
      "cell_type": "markdown",
      "source": [
        "CNN"
      ],
      "metadata": {
        "id": "Criu0m5o6qlb"
      }
    },
    {
      "cell_type": "code",
      "source": [
        "from keras.layers import Conv1D, TimeDistributed\n",
        "\n",
        "i = Input(shape=(max_length,))\n",
        "x = Embedding(input_dim=V + 1, output_dim=vector_size, mask_zero=True)(i)\n",
        "x = Conv1D(32, 3, activation='relu', padding='same')(x)\n",
        "x = Conv1D(32, 3, activation='relu', padding='same')(x)\n",
        "x = TimeDistributed(Dense(32, activation='relu'))(x)\n",
        "x = TimeDistributed(Dense(K))(x)\n",
        "\n",
        "model_cnn = Model(i, x)\n",
        "model_cnn.compile(optimizer=\"adam\", loss=SparseCategoricalCrossentropy(from_logits=True), metrics=[\"accuracy\"])\n",
        "model_cnn.summary()"
      ],
      "metadata": {
        "colab": {
          "base_uri": "https://localhost:8080/"
        },
        "id": "A3nrPZhq5Mtb",
        "outputId": "e37fcc4d-466c-4811-a2d6-d15ef21a6e14"
      },
      "execution_count": null,
      "outputs": [
        {
          "output_type": "stream",
          "name": "stdout",
          "text": [
            "Model: \"model_2\"\n",
            "_________________________________________________________________\n",
            " Layer (type)                Output Shape              Param #   \n",
            "=================================================================\n",
            " input_3 (InputLayer)        [(None, 89)]              0         \n",
            "                                                                 \n",
            " embedding_2 (Embedding)     (None, 89, 16)            460096    \n",
            "                                                                 \n",
            " conv1d (Conv1D)             (None, 89, 32)            1568      \n",
            "                                                                 \n",
            " conv1d_1 (Conv1D)           (None, 89, 32)            3104      \n",
            "                                                                 \n",
            " time_distributed_3 (TimeDi  (None, 89, 32)            1056      \n",
            " stributed)                                                      \n",
            "                                                                 \n",
            " time_distributed_4 (TimeDi  (None, 89, 18)            594       \n",
            " stributed)                                                      \n",
            "                                                                 \n",
            "=================================================================\n",
            "Total params: 466418 (1.78 MB)\n",
            "Trainable params: 466418 (1.78 MB)\n",
            "Non-trainable params: 0 (0.00 Byte)\n",
            "_________________________________________________________________\n"
          ]
        }
      ]
    },
    {
      "cell_type": "code",
      "source": [
        "# Train and evaluate CNN model\n",
        "model_cnn.fit(train_inputs_final, train_targets_final, epochs=10, validation_data=(test_inputs_final, test_targets_final))"
      ],
      "metadata": {
        "colab": {
          "base_uri": "https://localhost:8080/"
        },
        "id": "vqvQ--EdFE6n",
        "outputId": "5c99fda7-db04-4bbc-9fbe-653e88d3ec20"
      },
      "execution_count": null,
      "outputs": [
        {
          "output_type": "stream",
          "name": "stdout",
          "text": [
            "Epoch 1/10\n",
            "1199/1199 [==============================] - 23s 18ms/step - loss: 0.2653 - accuracy: 0.9524 - val_loss: 0.1319 - val_accuracy: 0.9622\n",
            "Epoch 2/10\n",
            "1199/1199 [==============================] - 23s 19ms/step - loss: 0.1220 - accuracy: 0.9637 - val_loss: 0.1233 - val_accuracy: 0.9633\n",
            "Epoch 3/10\n",
            "1199/1199 [==============================] - 21s 17ms/step - loss: 0.1107 - accuracy: 0.9663 - val_loss: 0.1217 - val_accuracy: 0.9637\n",
            "Epoch 4/10\n",
            "1199/1199 [==============================] - 21s 17ms/step - loss: 0.1037 - accuracy: 0.9682 - val_loss: 0.1235 - val_accuracy: 0.9636\n",
            "Epoch 5/10\n",
            "1199/1199 [==============================] - 23s 19ms/step - loss: 0.0986 - accuracy: 0.9696 - val_loss: 0.1250 - val_accuracy: 0.9634\n",
            "Epoch 6/10\n",
            "1199/1199 [==============================] - 21s 18ms/step - loss: 0.0948 - accuracy: 0.9707 - val_loss: 0.1281 - val_accuracy: 0.9633\n",
            "Epoch 7/10\n",
            "1199/1199 [==============================] - 23s 19ms/step - loss: 0.0919 - accuracy: 0.9716 - val_loss: 0.1303 - val_accuracy: 0.9627\n",
            "Epoch 8/10\n",
            "1199/1199 [==============================] - 23s 19ms/step - loss: 0.0895 - accuracy: 0.9722 - val_loss: 0.1323 - val_accuracy: 0.9625\n",
            "Epoch 9/10\n",
            "1199/1199 [==============================] - 22s 18ms/step - loss: 0.0875 - accuracy: 0.9728 - val_loss: 0.1351 - val_accuracy: 0.9623\n",
            "Epoch 10/10\n",
            "1199/1199 [==============================] - 22s 18ms/step - loss: 0.0859 - accuracy: 0.9733 - val_loss: 0.1374 - val_accuracy: 0.9624\n"
          ]
        },
        {
          "output_type": "execute_result",
          "data": {
            "text/plain": [
              "<keras.src.callbacks.History at 0x7eece6d6bd60>"
            ]
          },
          "metadata": {},
          "execution_count": 24
        }
      ]
    },
    {
      "cell_type": "markdown",
      "source": [
        "LSTM"
      ],
      "metadata": {
        "id": "50qDO0uOATDV"
      }
    },
    {
      "cell_type": "code",
      "source": [
        "from keras.layers import Bidirectional, LSTM\n",
        "\n",
        "i = Input(shape=(max_length,))\n",
        "x = Embedding(input_dim=V + 1, output_dim=vector_size, mask_zero=True)(i)\n",
        "x = Bidirectional(LSTM(32, return_sequences=True))(x)\n",
        "x = Dense(K)(x)\n",
        "\n",
        "model_lstm = Model(i, x)\n",
        "model_lstm.compile(optimizer=\"adam\", loss=SparseCategoricalCrossentropy(from_logits=True), metrics=[\"accuracy\"])\n",
        "model_lstm.summary()"
      ],
      "metadata": {
        "colab": {
          "base_uri": "https://localhost:8080/"
        },
        "id": "eVPOd6Du7I01",
        "outputId": "26ef6dec-809a-4e05-a564-e1f6c3609f08"
      },
      "execution_count": null,
      "outputs": [
        {
          "output_type": "stream",
          "name": "stdout",
          "text": [
            "Model: \"model_3\"\n",
            "_________________________________________________________________\n",
            " Layer (type)                Output Shape              Param #   \n",
            "=================================================================\n",
            " input_4 (InputLayer)        [(None, 89)]              0         \n",
            "                                                                 \n",
            " embedding_3 (Embedding)     (None, 89, 16)            460096    \n",
            "                                                                 \n",
            " bidirectional (Bidirection  (None, 89, 64)            12544     \n",
            " al)                                                             \n",
            "                                                                 \n",
            " dense_6 (Dense)             (None, 89, 18)            1170      \n",
            "                                                                 \n",
            "=================================================================\n",
            "Total params: 473810 (1.81 MB)\n",
            "Trainable params: 473810 (1.81 MB)\n",
            "Non-trainable params: 0 (0.00 Byte)\n",
            "_________________________________________________________________\n"
          ]
        }
      ]
    },
    {
      "cell_type": "code",
      "source": [
        "# Train and evaluate LSTM model\n",
        "model_lstm.fit(train_inputs_final, train_targets_final, epochs=10, validation_data=(test_inputs_final, test_targets_final))"
      ],
      "metadata": {
        "colab": {
          "base_uri": "https://localhost:8080/"
        },
        "id": "mUBGGU3CFf-6",
        "outputId": "3bebb4ea-ff04-4efb-88db-60622b144520"
      },
      "execution_count": null,
      "outputs": [
        {
          "output_type": "stream",
          "name": "stdout",
          "text": [
            "Epoch 1/10\n",
            "1199/1199 [==============================] - 159s 121ms/step - loss: 0.6780 - accuracy: 0.8449 - val_loss: 0.4887 - val_accuracy: 0.8646\n",
            "Epoch 2/10\n",
            "1199/1199 [==============================] - 141s 118ms/step - loss: 0.3951 - accuracy: 0.8821 - val_loss: 0.3585 - val_accuracy: 0.8903\n",
            "Epoch 3/10\n",
            "1199/1199 [==============================] - 142s 118ms/step - loss: 0.3148 - accuracy: 0.8988 - val_loss: 0.3254 - val_accuracy: 0.8980\n",
            "Epoch 4/10\n",
            "1199/1199 [==============================] - 159s 133ms/step - loss: 0.2727 - accuracy: 0.9102 - val_loss: 0.3126 - val_accuracy: 0.9022\n",
            "Epoch 5/10\n",
            "1199/1199 [==============================] - 141s 118ms/step - loss: 0.2435 - accuracy: 0.9186 - val_loss: 0.3091 - val_accuracy: 0.9042\n",
            "Epoch 6/10\n",
            "1199/1199 [==============================] - 141s 117ms/step - loss: 0.2212 - accuracy: 0.9254 - val_loss: 0.3118 - val_accuracy: 0.9052\n",
            "Epoch 7/10\n",
            "1199/1199 [==============================] - 141s 117ms/step - loss: 0.2046 - accuracy: 0.9313 - val_loss: 0.3113 - val_accuracy: 0.9056\n",
            "Epoch 8/10\n",
            "1199/1199 [==============================] - 139s 116ms/step - loss: 0.1901 - accuracy: 0.9360 - val_loss: 0.3182 - val_accuracy: 0.9056\n",
            "Epoch 9/10\n",
            "1199/1199 [==============================] - 141s 118ms/step - loss: 0.1774 - accuracy: 0.9402 - val_loss: 0.3268 - val_accuracy: 0.9048\n",
            "Epoch 10/10\n",
            "1199/1199 [==============================] - 147s 123ms/step - loss: 0.1669 - accuracy: 0.9436 - val_loss: 0.3340 - val_accuracy: 0.9064\n"
          ]
        },
        {
          "output_type": "execute_result",
          "data": {
            "text/plain": [
              "<keras.src.callbacks.History at 0x7d79de066ec0>"
            ]
          },
          "metadata": {},
          "execution_count": 25
        }
      ]
    },
    {
      "cell_type": "code",
      "source": [
        "from keras.layers import GRU\n",
        "\n",
        "i = Input(shape=(max_length,))\n",
        "x = Embedding(input_dim=V + 1, output_dim=vector_size, mask_zero=True)(i)\n",
        "x = GRU(32, return_sequences=True)(x)\n",
        "x = Dense(K)(x)\n",
        "\n",
        "model_gru = Model(i, x)\n",
        "model_gru.compile(optimizer=\"adam\", loss=SparseCategoricalCrossentropy(from_logits=True), metrics=[\"accuracy\"])\n",
        "model_gru.summary()"
      ],
      "metadata": {
        "colab": {
          "base_uri": "https://localhost:8080/"
        },
        "id": "5L9PtdBOG3KB",
        "outputId": "06503778-8017-4307-ad18-90716b40c2e3"
      },
      "execution_count": null,
      "outputs": [
        {
          "output_type": "stream",
          "name": "stdout",
          "text": [
            "Model: \"model_5\"\n",
            "_________________________________________________________________\n",
            " Layer (type)                Output Shape              Param #   \n",
            "=================================================================\n",
            " input_6 (InputLayer)        [(None, 89)]              0         \n",
            "                                                                 \n",
            " embedding_5 (Embedding)     (None, 89, 16)            460096    \n",
            "                                                                 \n",
            " gru_1 (GRU)                 (None, 89, 32)            4800      \n",
            "                                                                 \n",
            " dense_8 (Dense)             (None, 89, 18)            594       \n",
            "                                                                 \n",
            "=================================================================\n",
            "Total params: 465490 (1.78 MB)\n",
            "Trainable params: 465490 (1.78 MB)\n",
            "Non-trainable params: 0 (0.00 Byte)\n",
            "_________________________________________________________________\n"
          ]
        }
      ]
    },
    {
      "cell_type": "code",
      "source": [
        "model_gru.fit(train_inputs_final, train_targets_final, epochs=10, validation_data=(test_inputs_final, test_targets_final))"
      ],
      "metadata": {
        "colab": {
          "base_uri": "https://localhost:8080/"
        },
        "id": "040HGj3oG-Yk",
        "outputId": "cb7f0668-78f9-4256-f30d-8ad6a520fb91"
      },
      "execution_count": null,
      "outputs": [
        {
          "output_type": "stream",
          "name": "stdout",
          "text": [
            "Epoch 1/10\n",
            "1199/1199 [==============================] - 95s 74ms/step - loss: 0.6842 - accuracy: 0.8494 - val_loss: 0.4594 - val_accuracy: 0.8732\n",
            "Epoch 2/10\n",
            "1199/1199 [==============================] - 86s 71ms/step - loss: 0.3962 - accuracy: 0.8845 - val_loss: 0.3766 - val_accuracy: 0.8893\n",
            "Epoch 3/10\n",
            "1199/1199 [==============================] - 82s 68ms/step - loss: 0.3372 - accuracy: 0.8984 - val_loss: 0.3574 - val_accuracy: 0.8960\n",
            "Epoch 4/10\n",
            "1199/1199 [==============================] - 81s 68ms/step - loss: 0.3048 - accuracy: 0.9071 - val_loss: 0.3487 - val_accuracy: 0.8987\n",
            "Epoch 5/10\n",
            "1199/1199 [==============================] - 81s 67ms/step - loss: 0.2835 - accuracy: 0.9120 - val_loss: 0.3449 - val_accuracy: 0.8993\n",
            "Epoch 6/10\n",
            "1199/1199 [==============================] - 82s 68ms/step - loss: 0.2661 - accuracy: 0.9167 - val_loss: 0.3454 - val_accuracy: 0.8993\n",
            "Epoch 7/10\n",
            "1199/1199 [==============================] - 88s 73ms/step - loss: 0.2523 - accuracy: 0.9205 - val_loss: 0.3455 - val_accuracy: 0.8998\n",
            "Epoch 8/10\n",
            "1199/1199 [==============================] - 86s 72ms/step - loss: 0.2408 - accuracy: 0.9237 - val_loss: 0.3503 - val_accuracy: 0.9016\n",
            "Epoch 9/10\n",
            "1199/1199 [==============================] - 88s 73ms/step - loss: 0.2314 - accuracy: 0.9262 - val_loss: 0.3585 - val_accuracy: 0.9020\n",
            "Epoch 10/10\n",
            "1199/1199 [==============================] - 87s 72ms/step - loss: 0.2227 - accuracy: 0.9290 - val_loss: 0.3583 - val_accuracy: 0.9005\n"
          ]
        },
        {
          "output_type": "execute_result",
          "data": {
            "text/plain": [
              "<keras.src.callbacks.History at 0x7d79d77322c0>"
            ]
          },
          "metadata": {},
          "execution_count": 32
        }
      ]
    },
    {
      "cell_type": "markdown",
      "source": [
        "**EVALUATION ON SAMPLE SENTENCE ON EACH ALGORITHM**"
      ],
      "metadata": {
        "id": "TYZBNHArGxPC"
      }
    },
    {
      "cell_type": "code",
      "source": [
        "sentence = \"Polish Prime Minister Jaroslaw Kaczynski has voiced support for the deployment of 10 U.S. missile interceptors in Poland and guidance technology in the Czech Republic .\"\n",
        "predictions = model_rnn.predict(pad_sequences(tokenizer.texts_to_sequences([sentence]), maxlen=max_length, padding=\"post\"))\n",
        "prediction_ner = np.argmax(predictions, axis=-1)\n",
        "print(\"RNN Predictions:\", prediction_ner)"
      ],
      "metadata": {
        "colab": {
          "base_uri": "https://localhost:8080/"
        },
        "id": "zB9Oo9CAFxD4",
        "outputId": "f0805331-f74e-4c6f-fa7e-e502415a8db9"
      },
      "execution_count": null,
      "outputs": [
        {
          "output_type": "stream",
          "name": "stdout",
          "text": [
            "1/1 [==============================] - 0s 30ms/step\n",
            "RNN Predictions: [[8 6 1 1 5 1 1 1 1 1 1 1 1 1 7 1 1 2 1 2 1 1 1 1 1 1 1 1 1 1 1 1 1 1 1 1\n",
            "  1 1 1 1 1 1 1 1 1 1 1 1 1 1 1 1 1 1 1 1 1 1 1 1 1 1 1 1 1 1 1 1 1 1 1 1\n",
            "  1 1 1 1 1 1 1 1 1 1 1 1 1 1 1 1 1]]\n"
          ]
        }
      ]
    },
    {
      "cell_type": "code",
      "source": [
        "sentence = \"Polish Prime Minister Jaroslaw Kaczynski has voiced support for the deployment of 10 U.S. missile interceptors in Poland and guidance technology in the Czech Republic.\"\n",
        "predictions = model_mlp.predict(pad_sequences(tokenizer.texts_to_sequences([sentence]), maxlen=max_length, padding=\"post\"))\n",
        "prediction_ner = np.argmax(predictions, axis=-1)\n",
        "print(\"MLP Predictions:\", prediction_ner)"
      ],
      "metadata": {
        "colab": {
          "base_uri": "https://localhost:8080/"
        },
        "id": "OTp4DewZ63KW",
        "outputId": "3063919e-f190-4ede-fd36-29e6dc477476"
      },
      "execution_count": null,
      "outputs": [
        {
          "output_type": "stream",
          "name": "stdout",
          "text": [
            "1/1 [==============================] - 0s 24ms/step\n",
            "MLP Predictions: [[8 6 1 1 5 1 1 1 1 1 1 1 1 2 1 1 1 1 1 1 1 1 1 1 1 9 1 1 1 1 1 1 1 1 1 1\n",
            "  1 1 1 1 1 1 1 1 1 1 1 1 1 1 1 1 1 1 1 1 1 1 1 1 1 1 1 1 1 1 1 1 1 1 1 1\n",
            "  1 1 1 1 1 1 1 1 1 1 1 1 1 1 1 1 1]]\n"
          ]
        }
      ]
    },
    {
      "cell_type": "code",
      "source": [
        "sentence = \"Polish Prime Minister Jaroslaw Kaczynski has voiced support for the deployment of 10 U.S. missile interceptors in Poland and guidance technology in the Czech Republic.\"\n",
        "predictions = model_cnn.predict(pad_sequences(tokenizer.texts_to_sequences([sentence]), maxlen=max_length, padding=\"post\"))\n",
        "prediction_ner = np.argmax(predictions, axis=-1)\n",
        "print(\"CNN Predictions:\", prediction_ner)"
      ],
      "metadata": {
        "colab": {
          "base_uri": "https://localhost:8080/"
        },
        "id": "1Vk8WUs7F0l3",
        "outputId": "d396d031-ae9a-443e-ee61-1a7a53695853"
      },
      "execution_count": null,
      "outputs": [
        {
          "output_type": "stream",
          "name": "stdout",
          "text": [
            "1/1 [==============================] - 0s 26ms/step\n",
            "CNN Predictions: [[ 0 17  8 17  1  1  0 14  6  6  1  0  0  1  6  3  0  7  6  6  1  0  7  6\n",
            "   7  7  4 14  0  0  0  0  0  0  0  0  0  0  0  0  0  0  0  0  0  0  0  0\n",
            "   0  0  0  0  0  0  0  0  0  0  0  0  0  0  0  0  0  0  0  0  0  0  0  0\n",
            "   0  0  0  0  0  0  0  0  0  0  0  0  0  0  0  0  0]]\n"
          ]
        }
      ]
    },
    {
      "cell_type": "code",
      "source": [
        "sentence = \"Polish Prime Minister Jaroslaw Kaczynski has voiced support for the deployment of 10 U.S. missile interceptors in Poland and guidance technology in the Czech Republic .\"\n",
        "predictions = model_lstm.predict(pad_sequences(tokenizer.texts_to_sequences([sentence]), maxlen=max_length, padding=\"post\"))\n",
        "prediction_ner = np.argmax(predictions, axis=-1)\n",
        "print(\"LSTM Predictions:\", prediction_ner)"
      ],
      "metadata": {
        "colab": {
          "base_uri": "https://localhost:8080/"
        },
        "id": "tlVFdzMD69Iw",
        "outputId": "70ced061-3c3b-4176-bb54-7d422dd7a973"
      },
      "execution_count": null,
      "outputs": [
        {
          "output_type": "stream",
          "name": "stdout",
          "text": [
            "1/1 [==============================] - 0s 53ms/step\n",
            "LSTM Predictions: [[8 6 5 5 5 1 1 1 1 1 1 1 1 2 1 1 1 2 1 1 1 1 1 1 1 1 1 1 1 1 1 1 1 1 1 1\n",
            "  1 1 1 1 1 1 1 1 1 1 1 1 1 1 1 1 1 1 1 1 1 1 1 1 1 1 1 1 1 1 1 1 1 1 1 1\n",
            "  1 1 1 1 1 1 1 1 1 1 1 1 1 1 1 1 1]]\n"
          ]
        }
      ]
    },
    {
      "cell_type": "code",
      "source": [
        "import matplotlib.pyplot as plt\n",
        "\n",
        "final_metrics = {\n",
        "    'RNN': {'train_accuracy': 0.9276, 'val_accuracy': 0.8955, 'train_loss': 0.2305, 'val_loss': 0.3959},\n",
        "    'MLP': {'train_accuracy': 0.8820, 'val_accuracy': 0.8734, 'train_loss': 0.4028, 'val_loss': 0.4869},\n",
        "    'CNN': {'train_accuracy': 0.9733, 'val_accuracy': 0.9624, 'train_loss': 0.0859, 'val_loss': 0.1374},\n",
        "    'LSTM': {'train_accuracy': 0.9436, 'val_accuracy': 0.9064, 'train_loss': 0.1669, 'val_loss': 0.3340},\n",
        "    'GRU': {'train_accuracy': 0.9290, 'val_accuracy': 0.9005, 'train_loss': 0.2227, 'val_loss': 0.3583},\n",
        "}\n",
        "\n",
        "# Extract the data for plotting\n",
        "models = list(final_metrics.keys())\n",
        "train_accuracies = [final_metrics[model]['train_accuracy'] for model in models]\n",
        "val_accuracies = [final_metrics[model]['val_accuracy'] for model in models]\n",
        "train_losses = [final_metrics[model]['train_loss'] for model in models]\n",
        "val_losses = [final_metrics[model]['val_loss'] for model in models]\n",
        "\n",
        "# Plot accuracies\n",
        "plt.figure(figsize=(10, 5))\n",
        "plt.subplot(1, 2, 1)\n",
        "plt.plot(models, train_accuracies, label='Train Accuracy', alpha=0.7)\n",
        "plt.plot(models, val_accuracies, label='Validation Accuracy', alpha=0.7)\n",
        "plt.title('Accuracies')\n",
        "plt.xlabel('Models')\n",
        "plt.ylabel('Accuracy')\n",
        "plt.legend()\n",
        "\n",
        "# Plot losses\n",
        "plt.subplot(1, 2, 2)\n",
        "plt.plot(models, train_losses, label='Train Loss', alpha=0.7)\n",
        "plt.plot(models, val_losses, label='Validation Loss', alpha=0.7)\n",
        "plt.title('Losses')\n",
        "plt.xlabel('Models')\n",
        "plt.ylabel('Loss')\n",
        "plt.legend()\n",
        "\n",
        "plt.tight_layout()\n",
        "plt.show()\n"
      ],
      "metadata": {
        "colab": {
          "base_uri": "https://localhost:8080/",
          "height": 507
        },
        "id": "LcJBx4EZROrE",
        "outputId": "a6f98e83-c58d-4eaa-91b0-e4da238a2b13"
      },
      "execution_count": null,
      "outputs": [
        {
          "output_type": "display_data",
          "data": {
            "text/plain": [
              "<Figure size 1000x500 with 2 Axes>"
            ],
            "image/png": "[encoded data removed]"
          },
          "metadata": {}
        }
      ]
    },
    {
      "cell_type": "code",
      "source": [],
      "metadata": {
        "id": "_dIPEGyPRSjg"
      },
      "execution_count": null,
      "outputs": []
    }
  ]
}